{
 "cells": [
  {
   "cell_type": "code",
   "execution_count": 1,
   "id": "064a4f58",
   "metadata": {},
   "outputs": [],
   "source": [
    "import pandas as pd\n",
    "import matplotlib.pyplot as plt\n",
    "import numpy as np\n",
    "import seaborn as sns\n",
    "import pyspark\n",
    "from pyspark.sql import SparkSession\n",
    "from pyspark import SparkContext, SQLContext\n",
    "from pyspark.sql.types import StructType,StructField,IntegerType,FloatType,LongType,StringType\n",
    "from reco_utils.common.spark_utils import start_or_get_spark\n",
    "from reco_utils.dataset.spark_splitters import spark_random_split\n",
    "from pyspark.sql.functions import regexp_replace, col\n"
   ]
  },
  {
   "cell_type": "code",
   "execution_count": 2,
   "id": "3283afc7",
   "metadata": {},
   "outputs": [],
   "source": [
    "sc = pyspark.SparkContext()\n",
    "sql = SQLContext(sc)"
   ]
  },
  {
   "cell_type": "code",
   "execution_count": 3,
   "id": "8fa3fbe5",
   "metadata": {},
   "outputs": [],
   "source": [
    "spark = SparkSession \\\n",
    "    .builder \\\n",
    "    .appName(\"ALS\") \\\n",
    "    .getOrCreate()"
   ]
  },
  {
   "cell_type": "code",
   "execution_count": 4,
   "id": "b6ecfa7d",
   "metadata": {},
   "outputs": [
    {
     "data": {
      "text/plain": [
       "'3.1.1'"
      ]
     },
     "execution_count": 4,
     "metadata": {},
     "output_type": "execute_result"
    }
   ],
   "source": [
    "spark.version"
   ]
  },
  {
   "cell_type": "code",
   "execution_count": 9,
   "id": "ff861114",
   "metadata": {},
   "outputs": [],
   "source": [
    "df = spark.read.csv('rating.csv').toDF('userId', 'productId','Rating','timestamp')\n"
   ]
  },
  {
   "cell_type": "code",
   "execution_count": 10,
   "id": "cecda2e9",
   "metadata": {},
   "outputs": [
    {
     "name": "stdout",
     "output_type": "stream",
     "text": [
      "+--------------+----------+------+----------+\n",
      "|        userId| productId|Rating| timestamp|\n",
      "+--------------+----------+------+----------+\n",
      "| AKM1MP6P0OYPR|0132793040|   5.0|1365811200|\n",
      "|A2CX7LUOHB2NDG|0321732944|   5.0|1341100800|\n",
      "|A2NWSAGRHCP8N5|0439886341|   1.0|1367193600|\n",
      "|A2WNBOD3WNDNKT|0439886341|   3.0|1374451200|\n",
      "|A1GI0U4ZRJA8WN|0439886341|   1.0|1334707200|\n",
      "|A1QGNMC6O1VW39|0511189877|   5.0|1397433600|\n",
      "|A3J3BRHTDRFJ2G|0511189877|   2.0|1397433600|\n",
      "|A2TY0BTJOTENPG|0511189877|   5.0|1395878400|\n",
      "|A34ATBPOK6HCHY|0511189877|   5.0|1395532800|\n",
      "| A89DO69P0XZ27|0511189877|   5.0|1395446400|\n",
      "+--------------+----------+------+----------+\n",
      "only showing top 10 rows\n",
      "\n"
     ]
    }
   ],
   "source": [
    "df.show(10)"
   ]
  },
  {
   "cell_type": "markdown",
   "id": "d12fef3c",
   "metadata": {},
   "source": [
    "### Remove Alphabet from aphanumeric ISBN Columns using 'withColumn' function"
   ]
  },
  {
   "cell_type": "code",
   "execution_count": 11,
   "id": "fa217bd7",
   "metadata": {},
   "outputs": [],
   "source": [
    "df=df.withColumn(\"userId\",regexp_replace(col(\"userId\"),\"[a-zA-Z]\",\"\"))\n"
   ]
  },
  {
   "cell_type": "code",
   "execution_count": 12,
   "id": "6f9744cc",
   "metadata": {},
   "outputs": [],
   "source": [
    "COL_USER = \"userId\"\n",
    "COL_ITEM = \"productId\"\n",
    "COL_RATING = \"Rating\"\n",
    "COL_PREDICTION = \"prediction\"\n",
    "COL_TIMESTAMP = \"timestamp\"\n",
    "schema=StructType(\n",
    "    (\n",
    "    StructField(COL_USER,LongType()),\n",
    "    StructField(COL_ITEM,LongType()),\n",
    "    StructField(COL_RATING,FloatType()),\n",
    "    StructField(COL_TIMESTAMP, LongType()),\n",
    "    \n",
    "    ))\n",
    "\n",
    "\n",
    "\n"
   ]
  },
  {
   "cell_type": "code",
   "execution_count": 13,
   "id": "f5fda093",
   "metadata": {},
   "outputs": [
    {
     "data": {
      "text/plain": [
       "Row(userId='160', productId='0132793040', Rating='5.0', timestamp='1365811200')"
      ]
     },
     "execution_count": 13,
     "metadata": {},
     "output_type": "execute_result"
    }
   ],
   "source": [
    "df.first()"
   ]
  },
  {
   "cell_type": "markdown",
   "id": "b15fb396",
   "metadata": {},
   "source": [
    "<h2>Changing the schema of the Dataframe using 'withColumn' method</h2>"
   ]
  },
  {
   "cell_type": "code",
   "execution_count": 14,
   "id": "9904820a",
   "metadata": {},
   "outputs": [],
   "source": [
    "df2 = df.withColumn(\"userId\",col(\"userId\").cast(IntegerType())) \\\n",
    "    .withColumn(\"productId\",col(\"productId\").cast(IntegerType())) \\\n",
    "    .withColumn(\"Rating\",col(\"Rating\").cast(FloatType())) \\\n",
    ".withColumn(\"timestamp\",col(\"timestamp\").cast(LongType())) "
   ]
  },
  {
   "cell_type": "code",
   "execution_count": 15,
   "id": "58437d07",
   "metadata": {},
   "outputs": [
    {
     "name": "stdout",
     "output_type": "stream",
     "text": [
      "root\n",
      " |-- userId: string (nullable = true)\n",
      " |-- productId: string (nullable = true)\n",
      " |-- Rating: string (nullable = true)\n",
      " |-- timestamp: string (nullable = true)\n",
      "\n"
     ]
    }
   ],
   "source": [
    "df.printSchema()"
   ]
  },
  {
   "cell_type": "code",
   "execution_count": 16,
   "id": "855654a4",
   "metadata": {},
   "outputs": [
    {
     "name": "stdout",
     "output_type": "stream",
     "text": [
      "root\n",
      " |-- userId: integer (nullable = true)\n",
      " |-- productId: integer (nullable = true)\n",
      " |-- Rating: float (nullable = true)\n",
      " |-- timestamp: long (nullable = true)\n",
      "\n"
     ]
    }
   ],
   "source": [
    "df2.printSchema()"
   ]
  },
  {
   "cell_type": "code",
   "execution_count": 18,
   "id": "bb617bc4",
   "metadata": {},
   "outputs": [
    {
     "name": "stdout",
     "output_type": "stream",
     "text": [
      "+------+\n",
      "|userId|\n",
      "+------+\n",
      "|   160|\n",
      "|   272|\n",
      "|   285|\n",
      "|    23|\n",
      "|  1048|\n",
      "+------+\n",
      "only showing top 5 rows\n",
      "\n"
     ]
    }
   ],
   "source": [
    "df2.select('userId').show(5)"
   ]
  },
  {
   "cell_type": "code",
   "execution_count": 19,
   "id": "d3868323",
   "metadata": {},
   "outputs": [
    {
     "name": "stdout",
     "output_type": "stream",
     "text": [
      "+------+---------+------+----------+\n",
      "|userId|productId|Rating| timestamp|\n",
      "+------+---------+------+----------+\n",
      "|   160|132793040|   5.0|1365811200|\n",
      "|   272|321732944|   5.0|1341100800|\n",
      "|   285|439886341|   1.0|1367193600|\n",
      "|    23|439886341|   3.0|1374451200|\n",
      "+------+---------+------+----------+\n",
      "only showing top 4 rows\n",
      "\n"
     ]
    }
   ],
   "source": [
    "df2.show(4)"
   ]
  },
  {
   "cell_type": "code",
   "execution_count": 15,
   "id": "dd2d643a",
   "metadata": {},
   "outputs": [
    {
     "name": "stdout",
     "output_type": "stream",
     "text": [
      "+-------+------------------+--------------------+------------------+\n",
      "|summary|           User-ID|                ISBN|       Book-Rating|\n",
      "+-------+------------------+--------------------+------------------+\n",
      "|  count|           1149780|             1062289|           1149780|\n",
      "|   mean|140386.39512602412|5.3162145050241506E8|2.8669501991685364|\n",
      "| stddev| 80562.27771851176| 3.929768082443173E8| 3.854183859201656|\n",
      "|    min|                 2|                   0|               0.0|\n",
      "|    max|            278854|          2130530508|              10.0|\n",
      "+-------+------------------+--------------------+------------------+\n",
      "\n"
     ]
    }
   ],
   "source": [
    "df2.describe().show()"
   ]
  },
  {
   "cell_type": "code",
   "execution_count": 20,
   "id": "cd177a48",
   "metadata": {},
   "outputs": [
    {
     "name": "stdout",
     "output_type": "stream",
     "text": [
      "+------+---------+------+---------+\n",
      "|userId|productId|Rating|timestamp|\n",
      "+------+---------+------+---------+\n",
      "|     0|        0|     0|        0|\n",
      "+------+---------+------+---------+\n",
      "\n"
     ]
    }
   ],
   "source": [
    "from pyspark.sql.functions import isnan, when, count, col\n",
    "\n",
    "df2.select([count(when(isnan(c), c)).alias(c) for c in df.columns]).show()"
   ]
  },
  {
   "cell_type": "markdown",
   "id": "eb865d7d",
   "metadata": {},
   "source": [
    "<h1 style=\"text-align:center\">Runnning SQL queries Programmatically</h1>"
   ]
  },
  {
   "cell_type": "code",
   "execution_count": 23,
   "id": "bca7d189",
   "metadata": {},
   "outputs": [],
   "source": [
    "df.createOrReplaceTempView(\"rating\")"
   ]
  },
  {
   "cell_type": "code",
   "execution_count": 24,
   "id": "66e03af1",
   "metadata": {},
   "outputs": [],
   "source": [
    "sqlDF=spark.sql(\"select `userId`,count(*) as Frequency from rating group by `userId`\")"
   ]
  },
  {
   "cell_type": "code",
   "execution_count": 25,
   "id": "15b4379e",
   "metadata": {},
   "outputs": [
    {
     "name": "stdout",
     "output_type": "stream",
     "text": [
      "+-------+---------+\n",
      "| userId|Frequency|\n",
      "+-------+---------+\n",
      "| 330499|        7|\n",
      "|   2904|      545|\n",
      "| 121080|        4|\n",
      "|  17506|       35|\n",
      "| 184356|       17|\n",
      "| 239830|        9|\n",
      "|   1572|      595|\n",
      "|   2294|      499|\n",
      "|3658917|        1|\n",
      "|  24269|       42|\n",
      "|  18726|       61|\n",
      "|   1090|      544|\n",
      "|   2088|      628|\n",
      "|     07|     3476|\n",
      "|    296|     4478|\n",
      "|  20512|       43|\n",
      "|   2162|      624|\n",
      "|1106193|        4|\n",
      "|    467|      533|\n",
      "|2898472|        1|\n",
      "+-------+---------+\n",
      "only showing top 20 rows\n",
      "\n"
     ]
    }
   ],
   "source": [
    "sqlDF.show()"
   ]
  },
  {
   "cell_type": "code",
   "execution_count": 26,
   "id": "6aba3edd",
   "metadata": {},
   "outputs": [],
   "source": [
    "df2=df2.dropna()\n"
   ]
  },
  {
   "cell_type": "markdown",
   "id": "6b3fc6d7",
   "metadata": {},
   "source": [
    "<h1 style=\"color:red;text-align:center;\">Simple Algorithm for Recommendation (SAR)</h1>"
   ]
  },
  {
   "cell_type": "code",
   "execution_count": 27,
   "id": "a3cf115c",
   "metadata": {},
   "outputs": [],
   "source": [
    "from pyspark.ml.recommendation import ALS"
   ]
  },
  {
   "cell_type": "code",
   "execution_count": 28,
   "id": "86354f51",
   "metadata": {},
   "outputs": [
    {
     "name": "stdout",
     "output_type": "stream",
     "text": [
      "+------+---------+------+----------+-----------+\n",
      "|userId|productId|Rating| timestamp| prediction|\n",
      "+------+---------+------+----------+-----------+\n",
      "|  1088|972683275|   4.0|1377907200|   1.023531|\n",
      "|   243|972683275|   4.0|1352764800|  0.9404261|\n",
      "|   322|972683275|   5.0|1348444800|  0.9404261|\n",
      "|    34|972683275|   4.0|1395705600| 0.96759874|\n",
      "|    26|972683275|   5.0|1377388800| 0.96618086|\n",
      "|   332|972683275|   4.0|1360108800|0.034492627|\n",
      "|    22|972683275|   5.0|1324166400|  1.0609893|\n",
      "|   372|972683275|   5.0|1372377600|0.021905364|\n",
      "|   346|972683275|   5.0|1384646400|  0.8606039|\n",
      "|   224|972683275|   1.0|1344124800|   1.001984|\n",
      "|   224|972683275|   5.0|1390003200|   1.001984|\n",
      "|   259|972683275|   4.0|1295654400|  0.9404261|\n",
      "|   182|972683275|   5.0|1378857600|  0.8403057|\n",
      "|     6|972683275|   4.0|1283126400| 0.80649614|\n",
      "|    16|972683275|   4.0|1396742400|  1.0118737|\n",
      "|   142|972683275|   5.0|1366156800| 0.86027867|\n",
      "|    20|972683275|   5.0|1355529600|  0.3661771|\n",
      "|   295|972683275|   5.0|1382054400| 0.01807626|\n",
      "|   306|972683275|   5.0|1357689600| 0.08184735|\n",
      "|    54|972683275|   5.0|1360713600| 0.01855178|\n",
      "+------+---------+------+----------+-----------+\n",
      "only showing top 20 rows\n",
      "\n"
     ]
    }
   ],
   "source": [
    "# dataset split into training and testing set\n",
    "(training, test) = df2.randomSplit([0.8, 0.2])\n",
    "# training the model\n",
    "als = ALS(maxIter=5, implicitPrefs=True,userCol=\"userId\", itemCol=\"productId\", ratingCol=\"Rating\",coldStartStrategy=\"drop\")\n",
    "model = als.fit(training)\n",
    "# predict using the testing datatset\n",
    "predictions = model.transform(test)\n",
    "predictions.show()"
   ]
  },
  {
   "cell_type": "code",
   "execution_count": 29,
   "id": "392af4f0",
   "metadata": {},
   "outputs": [
    {
     "data": {
      "text/plain": [
       "Row(User-ID=2, ISBN=195153448, Book-Rating=0.0)"
      ]
     },
     "execution_count": 29,
     "metadata": {},
     "output_type": "execute_result"
    }
   ],
   "source": [
    "\n",
    "test.first()"
   ]
  },
  {
   "cell_type": "code",
   "execution_count": 118,
   "id": "d355ad56",
   "metadata": {},
   "outputs": [
    {
     "data": {
      "text/plain": [
       "1062289"
      ]
     },
     "execution_count": 118,
     "metadata": {},
     "output_type": "execute_result"
    }
   ],
   "source": [
    "df2.count()"
   ]
  },
  {
   "cell_type": "code",
   "execution_count": 119,
   "id": "acca943f",
   "metadata": {},
   "outputs": [
    {
     "name": "stdout",
     "output_type": "stream",
     "text": [
      "+-------+----------+-----------+\n",
      "|User-ID|      ISBN|Book-Rating|\n",
      "+-------+----------+-----------+\n",
      "|      2| 195153448|          0|\n",
      "|      7|  34542252|          0|\n",
      "|      8|   2005018|          5|\n",
      "|      8|  74322678|          5|\n",
      "|      8|  80652121|          0|\n",
      "|      8| 374157065|          0|\n",
      "|      8| 393045218|          0|\n",
      "|      8| 425176428|          0|\n",
      "|      8| 679425608|          0|\n",
      "|      8| 887841740|          5|\n",
      "|      8|1552041778|          5|\n",
      "|      8|1558746218|          0|\n",
      "|      8|1567407781|          6|\n",
      "|      8|1575663937|          6|\n",
      "|      8|1881320189|          7|\n",
      "|      9| 440234743|          0|\n",
      "|     10|1841721522|          0|\n",
      "|     12|1879384493|         10|\n",
      "|     14|  61076031|          5|\n",
      "|     14| 439095026|          5|\n",
      "+-------+----------+-----------+\n",
      "only showing top 20 rows\n",
      "\n"
     ]
    }
   ],
   "source": [
    "training.show()\n"
   ]
  },
  {
   "cell_type": "code",
   "execution_count": 120,
   "id": "adfbe544",
   "metadata": {},
   "outputs": [],
   "source": [
    "sc.setCheckpointDir('checkpoint/')\n",
    "ALS.checkpointInterval = 2"
   ]
  },
  {
   "cell_type": "code",
   "execution_count": null,
   "id": "e55b9ec2",
   "metadata": {},
   "outputs": [],
   "source": [
    "df_2=sc.textFile(\"rating.csv\")"
   ]
  },
  {
   "cell_type": "code",
   "execution_count": 5,
   "id": "38a93111",
   "metadata": {},
   "outputs": [],
   "source": [
    "spark = SQLContext(sc)                                                                             \n",
    "df = spark.createDataFrame([(0, \"a\"), (1, \"b\"), (2, \"c\"), (3, \"a\"), (4, \"a\"), (5, \"c\")],[\"id\", \"category\"])"
   ]
  },
  {
   "cell_type": "code",
   "execution_count": 8,
   "id": "09fcd78a",
   "metadata": {},
   "outputs": [],
   "source": [
    "stringIndexer = StringIndexer(inputCol=\"category\", outputCol=\"categoryIndex\")"
   ]
  },
  {
   "cell_type": "code",
   "execution_count": 9,
   "id": "05657e73",
   "metadata": {},
   "outputs": [],
   "source": [
    "model = stringIndexer.fit(df)"
   ]
  },
  {
   "cell_type": "code",
   "execution_count": 10,
   "id": "0c48c00b",
   "metadata": {},
   "outputs": [],
   "source": [
    "indexed = model.transform(df)"
   ]
  },
  {
   "cell_type": "code",
   "execution_count": 11,
   "id": "b445faf9",
   "metadata": {},
   "outputs": [
    {
     "name": "stdout",
     "output_type": "stream",
     "text": [
      "+---+--------+-------------+\n",
      "| id|category|categoryIndex|\n",
      "+---+--------+-------------+\n",
      "|  0|       a|          0.0|\n",
      "|  1|       b|          2.0|\n",
      "|  2|       c|          1.0|\n",
      "|  3|       a|          0.0|\n",
      "|  4|       a|          0.0|\n",
      "|  5|       c|          1.0|\n",
      "+---+--------+-------------+\n",
      "\n"
     ]
    }
   ],
   "source": [
    "indexed.show()"
   ]
  },
  {
   "cell_type": "code",
   "execution_count": null,
   "id": "f90a2f49",
   "metadata": {},
   "outputs": [],
   "source": []
  }
 ],
 "metadata": {
  "kernelspec": {
   "display_name": "Python 3",
   "language": "python",
   "name": "python3"
  },
  "language_info": {
   "codemirror_mode": {
    "name": "ipython",
    "version": 3
   },
   "file_extension": ".py",
   "mimetype": "text/x-python",
   "name": "python",
   "nbconvert_exporter": "python",
   "pygments_lexer": "ipython3",
   "version": "3.8.5"
  }
 },
 "nbformat": 4,
 "nbformat_minor": 5
}
