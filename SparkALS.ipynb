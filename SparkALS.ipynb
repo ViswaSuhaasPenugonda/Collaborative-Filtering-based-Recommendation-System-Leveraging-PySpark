{
 "cells": [
  {
   "cell_type": "code",
   "execution_count": 1,
   "id": "8c50be9c",
   "metadata": {},
   "outputs": [],
   "source": [
    "import pandas as pd\n",
    "import matplotlib.pyplot as plt\n",
    "import numpy as np\n",
    "import seaborn as sns\n",
    "import pyspark\n",
    "from pyspark.sql import SparkSession\n",
    "from pyspark import SparkContext, SQLContext\n",
    "from pyspark.sql.types import StructType,StructField,IntegerType,FloatType,LongType,StringType\n",
    "from reco_utils.common.spark_utils import start_or_get_spark\n",
    "from reco_utils.dataset.spark_splitters import spark_random_split\n",
    "from pyspark.sql.functions import regexp_replace, col\n"
   ]
  },
  {
   "cell_type": "code",
   "execution_count": 2,
   "id": "6e701002",
   "metadata": {},
   "outputs": [],
   "source": [
    "sc = pyspark.SparkContext()\n",
    "sql = SQLContext(sc)"
   ]
  },
  {
   "cell_type": "code",
   "execution_count": 3,
   "id": "1f9f47be",
   "metadata": {},
   "outputs": [],
   "source": [
    "spark = SparkSession \\\n",
    "    .builder \\\n",
    "    .appName(\"ALS\") \\\n",
    "    .getOrCreate()"
   ]
  },
  {
   "cell_type": "code",
   "execution_count": 4,
   "id": "aa89df68",
   "metadata": {},
   "outputs": [
    {
     "data": {
      "text/plain": [
       "'3.1.1'"
      ]
     },
     "execution_count": 4,
     "metadata": {},
     "output_type": "execute_result"
    }
   ],
   "source": [
    "spark.version"
   ]
  },
  {
   "cell_type": "code",
   "execution_count": 5,
   "id": "cb7b01b5",
   "metadata": {},
   "outputs": [],
   "source": [
    "df = spark.read.csv('BX-Book-Ratings.csv',header=True\n",
    "                   ,sep=';')\n"
   ]
  },
  {
   "cell_type": "code",
   "execution_count": 6,
   "id": "07f8a1db",
   "metadata": {},
   "outputs": [
    {
     "name": "stdout",
     "output_type": "stream",
     "text": [
      "+-------+----------+-----------+\n",
      "|User-ID|      ISBN|Book-Rating|\n",
      "+-------+----------+-----------+\n",
      "| 276725|034545104X|          0|\n",
      "| 276726|0155061224|          5|\n",
      "| 276727|0446520802|          0|\n",
      "| 276729|052165615X|          3|\n",
      "| 276729|0521795028|          6|\n",
      "| 276733|2080674722|          0|\n",
      "| 276736|3257224281|          8|\n",
      "| 276737|0600570967|          6|\n",
      "| 276744|038550120X|          7|\n",
      "| 276745| 342310538|         10|\n",
      "+-------+----------+-----------+\n",
      "only showing top 10 rows\n",
      "\n"
     ]
    }
   ],
   "source": [
    "df.show(10)"
   ]
  },
  {
   "cell_type": "markdown",
   "id": "e5bb65cf",
   "metadata": {},
   "source": [
    "### Remove Alphabet from aphanumeric ISBN Columns using 'withColumn' function"
   ]
  },
  {
   "cell_type": "code",
   "execution_count": 7,
   "id": "a0a326c7",
   "metadata": {},
   "outputs": [],
   "source": [
    "df=df.withColumn(\"ISBN\",regexp_replace(col(\"ISBN\"),\"[a-zA-Z]\",\"\"))\n"
   ]
  },
  {
   "cell_type": "code",
   "execution_count": 8,
   "id": "527d731f",
   "metadata": {},
   "outputs": [],
   "source": [
    "COL_USER = \"User-ID\"\n",
    "COL_ITEM = \"ISBN\"\n",
    "COL_RATING = \"Book-Rating\"\n",
    "COL_PREDICTION = \"prediction\"\n",
    "\n",
    "schema=StructType(\n",
    "    (\n",
    "    StructField(COL_USER,LongType()),\n",
    "    StructField(COL_ITEM,LongType()),\n",
    "    StructField(COL_RATING,FloatType())))\n",
    "\n",
    "\n",
    "\n"
   ]
  },
  {
   "cell_type": "code",
   "execution_count": 9,
   "id": "9e006000",
   "metadata": {},
   "outputs": [
    {
     "data": {
      "text/plain": [
       "Row(User-ID='276725', ISBN='034545104', Book-Rating='0')"
      ]
     },
     "execution_count": 9,
     "metadata": {},
     "output_type": "execute_result"
    }
   ],
   "source": [
    "df.first()"
   ]
  },
  {
   "cell_type": "markdown",
   "id": "c4315a06",
   "metadata": {},
   "source": [
    "<h2>Changing the schema of the Dataframe using 'withColumn' method</h2>"
   ]
  },
  {
   "cell_type": "code",
   "execution_count": 10,
   "id": "e0495b5a",
   "metadata": {},
   "outputs": [],
   "source": [
    "df2 = df.withColumn(\"User-ID\",col(\"User-ID\").cast(IntegerType())) \\\n",
    "    .withColumn(\"ISBN\",col(\"ISBN\").cast(IntegerType())) \\\n",
    "    .withColumn(\"Book-Rating\",col(\"Book-Rating\").cast(FloatType()))"
   ]
  },
  {
   "cell_type": "code",
   "execution_count": 11,
   "id": "2303f8f0",
   "metadata": {},
   "outputs": [
    {
     "name": "stdout",
     "output_type": "stream",
     "text": [
      "root\n",
      " |-- User-ID: string (nullable = true)\n",
      " |-- ISBN: string (nullable = true)\n",
      " |-- Book-Rating: string (nullable = true)\n",
      "\n"
     ]
    }
   ],
   "source": [
    "df.printSchema()"
   ]
  },
  {
   "cell_type": "code",
   "execution_count": 12,
   "id": "a8a79840",
   "metadata": {},
   "outputs": [
    {
     "name": "stdout",
     "output_type": "stream",
     "text": [
      "root\n",
      " |-- User-ID: integer (nullable = true)\n",
      " |-- ISBN: integer (nullable = true)\n",
      " |-- Book-Rating: float (nullable = true)\n",
      "\n"
     ]
    }
   ],
   "source": [
    "df2.printSchema()"
   ]
  },
  {
   "cell_type": "code",
   "execution_count": 13,
   "id": "68c8a132",
   "metadata": {},
   "outputs": [
    {
     "name": "stdout",
     "output_type": "stream",
     "text": [
      "+---------+\n",
      "|     ISBN|\n",
      "+---------+\n",
      "| 34545104|\n",
      "|155061224|\n",
      "|446520802|\n",
      "| 52165615|\n",
      "|521795028|\n",
      "+---------+\n",
      "only showing top 5 rows\n",
      "\n"
     ]
    }
   ],
   "source": [
    "df2.select('ISBN').show(5)"
   ]
  },
  {
   "cell_type": "code",
   "execution_count": 14,
   "id": "b3d48c82",
   "metadata": {},
   "outputs": [
    {
     "name": "stdout",
     "output_type": "stream",
     "text": [
      "+-------+---------+-----------+\n",
      "|User-ID|     ISBN|Book-Rating|\n",
      "+-------+---------+-----------+\n",
      "| 276725| 34545104|        0.0|\n",
      "| 276726|155061224|        5.0|\n",
      "| 276727|446520802|        0.0|\n",
      "| 276729| 52165615|        3.0|\n",
      "+-------+---------+-----------+\n",
      "only showing top 4 rows\n",
      "\n"
     ]
    }
   ],
   "source": [
    "df2.show(4)"
   ]
  },
  {
   "cell_type": "code",
   "execution_count": 15,
   "id": "f58a284c",
   "metadata": {},
   "outputs": [
    {
     "name": "stdout",
     "output_type": "stream",
     "text": [
      "+-------+------------------+--------------------+------------------+\n",
      "|summary|           User-ID|                ISBN|       Book-Rating|\n",
      "+-------+------------------+--------------------+------------------+\n",
      "|  count|           1149780|             1062289|           1149780|\n",
      "|   mean|140386.39512602412|5.3162145050241506E8|2.8669501991685364|\n",
      "| stddev| 80562.27771851176| 3.929768082443173E8| 3.854183859201656|\n",
      "|    min|                 2|                   0|               0.0|\n",
      "|    max|            278854|          2130530508|              10.0|\n",
      "+-------+------------------+--------------------+------------------+\n",
      "\n"
     ]
    }
   ],
   "source": [
    "df2.describe().show()"
   ]
  },
  {
   "cell_type": "code",
   "execution_count": 16,
   "id": "6c2b99b3",
   "metadata": {},
   "outputs": [
    {
     "name": "stdout",
     "output_type": "stream",
     "text": [
      "+-------+----+-----------+\n",
      "|User-ID|ISBN|Book-Rating|\n",
      "+-------+----+-----------+\n",
      "|      0|   0|          0|\n",
      "+-------+----+-----------+\n",
      "\n"
     ]
    }
   ],
   "source": [
    "from pyspark.sql.functions import isnan, when, count, col\n",
    "\n",
    "df2.select([count(when(isnan(c), c)).alias(c) for c in df.columns]).show()"
   ]
  },
  {
   "cell_type": "markdown",
   "id": "a5fb7e68",
   "metadata": {},
   "source": [
    "<h1 style=\"text-align:center\">Runnning SQL queries Programmatically</h1>"
   ]
  },
  {
   "cell_type": "code",
   "execution_count": 17,
   "id": "7860e529",
   "metadata": {},
   "outputs": [],
   "source": [
    "df.createOrReplaceTempView(\"Book\")"
   ]
  },
  {
   "cell_type": "code",
   "execution_count": 18,
   "id": "458e8ace",
   "metadata": {},
   "outputs": [],
   "source": [
    "sqlDF=spark.sql(\"select `User-ID`,count(*) as Frequency from Book group by `User-ID`\")"
   ]
  },
  {
   "cell_type": "code",
   "execution_count": 19,
   "id": "276780e3",
   "metadata": {},
   "outputs": [
    {
     "name": "stdout",
     "output_type": "stream",
     "text": [
      "+-------+---------+\n",
      "|User-ID|Frequency|\n",
      "+-------+---------+\n",
      "| 277594|        1|\n",
      "| 277840|        1|\n",
      "| 278220|        2|\n",
      "| 278659|        1|\n",
      "|   1436|       12|\n",
      "|   2136|       10|\n",
      "|   3959|        2|\n",
      "|   4032|        2|\n",
      "|   4821|        3|\n",
      "|   4937|        5|\n",
      "|   5325|        1|\n",
      "|   5925|        1|\n",
      "|   6613|        1|\n",
      "|   6731|       26|\n",
      "|   7711|        1|\n",
      "|   8433|        1|\n",
      "|   9030|        1|\n",
      "|   9583|        1|\n",
      "|   9586|        2|\n",
      "|   9993|        1|\n",
      "+-------+---------+\n",
      "only showing top 20 rows\n",
      "\n"
     ]
    }
   ],
   "source": [
    "sqlDF.show()"
   ]
  },
  {
   "cell_type": "code",
   "execution_count": 20,
   "id": "85abe870",
   "metadata": {},
   "outputs": [],
   "source": [
    "df2=df2.dropna()\n"
   ]
  },
  {
   "cell_type": "markdown",
   "id": "212a6471",
   "metadata": {},
   "source": [
    "<h1 style=\"color:red;text-align:center;\">Simple Algorithm for Recommendation (SAR)</h1>"
   ]
  },
  {
   "cell_type": "code",
   "execution_count": 21,
   "id": "8d75e19f",
   "metadata": {},
   "outputs": [],
   "source": [
    "from pyspark.ml.recommendation import ALS"
   ]
  },
  {
   "cell_type": "code",
   "execution_count": 22,
   "id": "2e095d5f",
   "metadata": {},
   "outputs": [
    {
     "name": "stdout",
     "output_type": "stream",
     "text": [
      "+-------+--------+-----------+-------------+\n",
      "|User-ID|    ISBN|Book-Rating|   prediction|\n",
      "+-------+--------+-----------+-------------+\n",
      "| 189334| 2250810|        0.0|   0.01370871|\n",
      "| 226393| 6019250|        0.0| 0.0076020802|\n",
      "| 116170| 6019250|       10.0| 1.2555723E-4|\n",
      "| 230259| 6019250|        9.0|  1.849127E-4|\n",
      "| 153662| 6101379|        8.0|          0.0|\n",
      "| 149908| 6722253|        0.0| 1.2253312E-4|\n",
      "|  81210|14027877|       10.0| -1.294015E-7|\n",
      "| 258152|19281785|        0.0|          0.0|\n",
      "|  94242|20427115|        9.0| 1.3043522E-4|\n",
      "| 234828|20427115|        9.0|  0.018266551|\n",
      "| 103630|20427115|        0.0| 0.0011910278|\n",
      "| 197012|20427115|        0.0| 0.0011818362|\n",
      "|  11676|28604458|        8.0|   0.00577456|\n",
      "| 213350|28616340|        0.0|-1.0370857E-6|\n",
      "| 167759|30080037|        5.0|          0.0|\n",
      "| 206219|31021792|        8.0| 3.3554045E-4|\n",
      "| 160541|34071252|        0.0|-2.1652492E-4|\n",
      "| 204864|34543448|        0.0|   0.09448918|\n",
      "| 251019|34543448|        8.0|   0.01636376|\n",
      "| 172742|34543448|       10.0| 0.0013139921|\n",
      "+-------+--------+-----------+-------------+\n",
      "only showing top 20 rows\n",
      "\n"
     ]
    }
   ],
   "source": [
    "# dataset split into training and testing set\n",
    "(training, test) = df2.randomSplit([0.8, 0.2])\n",
    "# training the model\n",
    "als = ALS(maxIter=5, implicitPrefs=True,userCol=\"User-ID\", itemCol=\"ISBN\", ratingCol=\"Book-Rating\",coldStartStrategy=\"drop\")\n",
    "model = als.fit(training)\n",
    "# predict using the testing datatset\n",
    "predictions = model.transform(test)\n",
    "predictions.show()"
   ]
  },
  {
   "cell_type": "code",
   "execution_count": null,
   "id": "0b9c25a4",
   "metadata": {},
   "outputs": [],
   "source": []
  },
  {
   "cell_type": "code",
   "execution_count": 24,
   "id": "ffa5eca0",
   "metadata": {},
   "outputs": [
    {
     "name": "stdout",
     "output_type": "stream",
     "text": [
      "Precision@k = 0.31443872128198835\n",
      "Recall@k = 0.865966405332303\n",
      "NDCG@k = 0.9511033680061365\n",
      "Mean average precision = 0.8661343422900482\n"
     ]
    }
   ],
   "source": [
    "from reco_utils.evaluation.spark_evaluation import SparkRankingEvaluation, SparkRatingEvaluation\n",
    "\n",
    "evaluations = SparkRankingEvaluation(\n",
    "    test, \n",
    "    predictions,\n",
    "    col_user='User-ID',\n",
    "    col_item='ISBN',\n",
    "    col_rating='Book-Rating',\n",
    "    col_prediction='prediction',\n",
    "   \n",
    "    k=10\n",
    ")\n",
    "\n",
    "print(\n",
    "    \"Precision@k = {}\".format(evaluations.precision_at_k()),\n",
    "    \"Recall@k = {}\".format(evaluations.recall_at_k()),\n",
    "    \"NDCG@k = {}\".format(evaluations.ndcg_at_k()),\n",
    "    \"Mean average precision = {}\".format(evaluations.map_at_k()),\n",
    "    sep=\"\\n\"\n",
    ")"
   ]
  },
  {
   "cell_type": "code",
   "execution_count": 25,
   "id": "38e38855",
   "metadata": {},
   "outputs": [],
   "source": [
    "books = spark.read.csv('BX-Books.csv',header=True\n",
    "                   ,sep=';')"
   ]
  },
  {
   "cell_type": "code",
   "execution_count": 27,
   "id": "04c65f76",
   "metadata": {},
   "outputs": [
    {
     "name": "stdout",
     "output_type": "stream",
     "text": [
      "+----------+-------------------+--------------------+-------------------+--------------------+--------------------+--------------------+--------------------+\n",
      "|      ISBN|         Book-Title|         Book-Author|Year-Of-Publication|           Publisher|         Image-URL-S|         Image-URL-M|         Image-URL-L|\n",
      "+----------+-------------------+--------------------+-------------------+--------------------+--------------------+--------------------+--------------------+\n",
      "|0195153448|Classical Mythology|  Mark P. O. Morford|               2002|Oxford University...|http://images.ama...|http://images.ama...|http://images.ama...|\n",
      "|0002005018|       Clara Callan|Richard Bruce Wright|               2001|HarperFlamingo Ca...|http://images.ama...|http://images.ama...|http://images.ama...|\n",
      "+----------+-------------------+--------------------+-------------------+--------------------+--------------------+--------------------+--------------------+\n",
      "only showing top 2 rows\n",
      "\n"
     ]
    }
   ],
   "source": [
    "books.show(2)"
   ]
  },
  {
   "cell_type": "markdown",
   "id": "b3ca96c4",
   "metadata": {},
   "source": [
    "## Combining Ratings table with Books table"
   ]
  },
  {
   "cell_type": "code",
   "execution_count": 33,
   "id": "c2446d82",
   "metadata": {},
   "outputs": [],
   "source": [
    "df_combine=df2.join(books,df2.ISBN ==  books.ISBN,\"inner\")"
   ]
  },
  {
   "cell_type": "code",
   "execution_count": 45,
   "id": "15e491f4",
   "metadata": {},
   "outputs": [],
   "source": [
    "df_combine.createOrReplaceTempView(\"Book\")"
   ]
  },
  {
   "cell_type": "code",
   "execution_count": 54,
   "id": "7df1e05a",
   "metadata": {},
   "outputs": [],
   "source": [
    "\n",
    "sqlDF=spark.sql(\"select distinct(`Book-Title`),`Book-Author`,`Publisher`  from Book\")"
   ]
  },
  {
   "cell_type": "code",
   "execution_count": 55,
   "id": "17e19f89",
   "metadata": {},
   "outputs": [
    {
     "name": "stdout",
     "output_type": "stream",
     "text": [
      "+--------------------+--------------------+-------------------+\n",
      "|          Book-Title|         Book-Author|          Publisher|\n",
      "+--------------------+--------------------+-------------------+\n",
      "|The Cat Who Came ...|Lilian Jackson Braun|   Putnam Pub Group|\n",
      "|The Martian Chron...|        RAY BRADBURY|            Spectra|\n",
      "|       Primal Scream|       Michael Slade|        Signet Book|\n",
      "|Picture of Dorian...|         Oscar Wilde|Penguin Putnam~mass|\n",
      "|Rachel's Tears: T...|       Darrell Scott|       Nelson Books|\n",
      "|Sacred Diary of A...|        Adrian Plass|          Zondervan|\n",
      "|HISTORY OF THE SO...|       Clement Eaton|         Free Press|\n",
      "|     Thing of Beauty|       Stephen Fried|             Pocket|\n",
      "|             Rain Uk|   Stephen Gallagher|   Trafalgar Square|\n",
      "|Fg on Our Immigra...|             J Smith|               Avon|\n",
      "+--------------------+--------------------+-------------------+\n",
      "only showing top 10 rows\n",
      "\n"
     ]
    }
   ],
   "source": [
    "sqlDF.show(10)"
   ]
  },
  {
   "cell_type": "markdown",
   "id": "6a5c7a22",
   "metadata": {},
   "source": [
    "<h3> Getting Recommendations\n",
    "Now it's time to actually get some recommendations! The ALS model has built-in methods called .recommendForUserSubset() and .recommendForAllUsers(). We'll start off with using a subset of users.</h3>"
   ]
  },
  {
   "cell_type": "markdown",
   "id": "7be05c35",
   "metadata": {},
   "source": [
    "###  Top K recommendation\n"
   ]
  },
  {
   "cell_type": "markdown",
   "id": "d57dc3b7",
   "metadata": {},
   "source": [
    "#### Top  k for all users"
   ]
  },
  {
   "cell_type": "code",
   "execution_count": 57,
   "id": "95b79a63",
   "metadata": {},
   "outputs": [
    {
     "name": "stdout",
     "output_type": "stream",
     "text": [
      "+-------+--------------------+\n",
      "|User-ID|     recommendations|\n",
      "+-------+--------------------+\n",
      "|    463|[{312195516, 0.00...|\n",
      "|    496|[{440241073, 0.07...|\n",
      "|   1829|[{312195516, 0.00...|\n",
      "|   2366|[{345342968, 0.03...|\n",
      "|   3175|[{671027360, 0.00...|\n",
      "|   3918|[{60928336, 0.021...|\n",
      "|   4900|[{385504209, 0.18...|\n",
      "|   5300|[{0, 0.0}, {10, 0...|\n",
      "|   6336|[{60928336, 0.130...|\n",
      "|   6357|[{0, 0.0}, {10, 0...|\n",
      "|   6397|[{440214041, 0.00...|\n",
      "|   6466|[{142001740, 0.01...|\n",
      "|   6654|[{385504209, 2.70...|\n",
      "|   7253|[{1400034779, 0.0...|\n",
      "|   7340|[{0, 0.0}, {10, 0...|\n",
      "|   7754|[{316666343, 0.00...|\n",
      "|   7982|[{0, 0.0}, {10, 0...|\n",
      "|   8086|[{60928336, 0.419...|\n",
      "|   9427|[{60934417, 5.658...|\n",
      "|   9465|[{312195516, 4.28...|\n",
      "+-------+--------------------+\n",
      "only showing top 20 rows\n",
      "\n"
     ]
    }
   ],
   "source": [
    "model.recommendForAllUsers(10).show()"
   ]
  },
  {
   "cell_type": "code",
   "execution_count": 58,
   "id": "a20480b9",
   "metadata": {},
   "outputs": [
    {
     "data": {
      "text/plain": [
       "'User-ID'"
      ]
     },
     "execution_count": 58,
     "metadata": {},
     "output_type": "execute_result"
    }
   ],
   "source": [
    "als.getUserCol()"
   ]
  },
  {
   "cell_type": "code",
   "execution_count": 85,
   "id": "75b9088c",
   "metadata": {},
   "outputs": [],
   "source": [
    "users = training_combine.select(als.getUserCol()).distinct().orderBy(col(\"User-ID\").desc()).limit(5)\n",
    "\n",
    "dfs_rec_subset = model.recommendForUserSubset(users, 10)"
   ]
  },
  {
   "cell_type": "code",
   "execution_count": 121,
   "id": "aa2e2cb3",
   "metadata": {},
   "outputs": [
    {
     "data": {
      "text/plain": [
       "[Row(User-ID=278854, recommendations=Row(ISBN=316601950, rating=0.059437818825244904)),\n",
       " Row(User-ID=278854, recommendations=Row(ISBN=312195516, rating=0.04924558475613594)),\n",
       " Row(User-ID=278854, recommendations=Row(ISBN=142001740, rating=0.047789402306079865)),\n",
       " Row(User-ID=278854, recommendations=Row(ISBN=60930535, rating=0.04427557811141014)),\n",
       " Row(User-ID=278854, recommendations=Row(ISBN=446672211, rating=0.04125460982322693)),\n",
       " Row(User-ID=278854, recommendations=Row(ISBN=440241073, rating=0.03986551612615585)),\n",
       " Row(User-ID=278854, recommendations=Row(ISBN=316666343, rating=0.03674742206931114)),\n",
       " Row(User-ID=278854, recommendations=Row(ISBN=316284955, rating=0.036407168954610825)),\n",
       " Row(User-ID=278854, recommendations=Row(ISBN=446310786, rating=0.03554272651672363)),\n",
       " Row(User-ID=278854, recommendations=Row(ISBN=375700757, rating=0.03380738943815231))]"
      ]
     },
     "execution_count": 121,
     "metadata": {},
     "output_type": "execute_result"
    }
   ],
   "source": [
    "dfs_rec_subset.where(dfs_rec_subset['User-ID'] == 278854).collect()"
   ]
  },
  {
   "cell_type": "code",
   "execution_count": 106,
   "id": "4d4dde63",
   "metadata": {},
   "outputs": [],
   "source": [
    "recs=dfs_rec_subset.take(5)"
   ]
  },
  {
   "cell_type": "code",
   "execution_count": 126,
   "id": "b8190cb4",
   "metadata": {},
   "outputs": [
    {
     "data": {
      "text/plain": [
       "pyspark.sql.dataframe.DataFrame"
      ]
     },
     "execution_count": 126,
     "metadata": {},
     "output_type": "execute_result"
    }
   ],
   "source": []
  },
  {
   "cell_type": "code",
   "execution_count": 110,
   "id": "66249e79",
   "metadata": {},
   "outputs": [
    {
     "data": {
      "text/plain": [
       "Row(ISBN=446672211, rating=0.04125460982322693)"
      ]
     },
     "execution_count": 110,
     "metadata": {},
     "output_type": "execute_result"
    }
   ],
   "source": [
    "recs[4]['recommendations']"
   ]
  },
  {
   "cell_type": "code",
   "execution_count": null,
   "id": "e17ed371",
   "metadata": {},
   "outputs": [],
   "source": []
  }
 ],
 "metadata": {
  "kernelspec": {
   "display_name": "Python 3",
   "language": "python",
   "name": "python3"
  },
  "language_info": {
   "codemirror_mode": {
    "name": "ipython",
    "version": 3
   },
   "file_extension": ".py",
   "mimetype": "text/x-python",
   "name": "python",
   "nbconvert_exporter": "python",
   "pygments_lexer": "ipython3",
   "version": "3.8.5"
  }
 },
 "nbformat": 4,
 "nbformat_minor": 5
}
